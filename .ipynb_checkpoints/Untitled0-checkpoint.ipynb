{
 "metadata": {
  "name": "",
  "signature": "sha256:93a0ce4ffbc11a43b9db6fc083c01f49fb8567100b98c156c94f506cb8e7e236"
 },
 "nbformat": 3,
 "nbformat_minor": 0,
 "worksheets": []
}